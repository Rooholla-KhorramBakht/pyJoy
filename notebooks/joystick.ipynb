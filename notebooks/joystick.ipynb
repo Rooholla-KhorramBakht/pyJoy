{
 "cells": [
  {
   "cell_type": "code",
   "execution_count": 1,
   "id": "63b09b52",
   "metadata": {},
   "outputs": [
    {
     "name": "stdout",
     "output_type": "stream",
     "text": [
      "pygame 2.1.2 (SDL 2.0.16, Python 3.9.12)\n",
      "Hello from the pygame community. https://www.pygame.org/contribute.html\n"
     ]
    }
   ],
   "source": [
    "import pygame\n",
    "from time import sleep\n",
    "import threading"
   ]
  },
  {
   "cell_type": "code",
   "execution_count": 2,
   "id": "edb050d2",
   "metadata": {},
   "outputs": [],
   "source": [
    "class JoyManager():\n",
    "    \n",
    "    def __init__(self, user_callback = None):\n",
    "        self.dt = 0.01 #Sampling frequence of the joystick\n",
    "        self.runnign = False\n",
    "        self.joy_thread_handle = threading.Thread(target=self.joy_thread)\n",
    "        #an optional callback that can be used to send the reading values to a user provided function\n",
    "        self.user_callback = user_callback\n",
    "        pygame.init()\n",
    "\n",
    "    def joy_thread(self):\n",
    "        while self.running:\n",
    "            self.analog_cmd = [self.joy.get_axis(i) for i in range(self.joy.get_numaxes())]\n",
    "            self.digital_cmd = [self.joy.get_button(i) for i in range(self.joy.get_numbuttons())]\n",
    "            pygame.event.wait()\n",
    "            sleep(self.dt)\n",
    "            #Send the data to the user if required, otherwise the user will read the data \n",
    "            #Whenever wanted\n",
    "            if self.user_callback is not None:\n",
    "                self.user_callback(self.analog_cmd, self.digital_cmd)\n",
    "                \n",
    "    def start_daq(self, joy_idx):\n",
    "        #Get the joy object\n",
    "        assert pygame.joystick.get_count() != 0, 'No joysticks detected, you can not start the class'\n",
    "        assert pygame.joystick.get_count() >= joy_idx, 'The requested joystick ID exceeds the number of availble devices'\n",
    "        self.joy = pygame.joystick.Joystick(joy_idx)\n",
    "        self.running = True\n",
    "        self.joy_thread_handle.start()\n",
    "        \n",
    "    def stop_daq(self):\n",
    "        self.running = False\n",
    "        self.joy_thread_handle.join()\n",
    "        \n",
    "    def read_values(self):\n",
    "        return self.analog_cmd, self.digital_cmd\n",
    "        \n",
    "        \n",
    "        "
   ]
  },
  {
   "cell_type": "code",
   "execution_count": 3,
   "id": "bf9d9e8a",
   "metadata": {},
   "outputs": [],
   "source": [
    "joystick = JoyManager()"
   ]
  },
  {
   "cell_type": "code",
   "execution_count": 4,
   "id": "60058bf0",
   "metadata": {},
   "outputs": [],
   "source": [
    "joystick.start_daq(0)"
   ]
  },
  {
   "cell_type": "code",
   "execution_count": 5,
   "id": "b63596fc",
   "metadata": {},
   "outputs": [
    {
     "data": {
      "text/plain": [
       "([-0.004913330078125,\n",
       "  -0.002960205078125,\n",
       "  -0.003936767578125,\n",
       "  -0.82745361328125],\n",
       " [0, 0, 0, 0, 0, 0, 0, 0, 0, 0, 0, 0])"
      ]
     },
     "execution_count": 5,
     "metadata": {},
     "output_type": "execute_result"
    }
   ],
   "source": [
    "joystick.read_values()"
   ]
  },
  {
   "cell_type": "code",
   "execution_count": 6,
   "id": "c1717844",
   "metadata": {},
   "outputs": [],
   "source": [
    "joystick.stop_daq()"
   ]
  }
 ],
 "metadata": {
  "kernelspec": {
   "display_name": "Python 3 (ipykernel)",
   "language": "python",
   "name": "python3"
  },
  "language_info": {
   "codemirror_mode": {
    "name": "ipython",
    "version": 3
   },
   "file_extension": ".py",
   "mimetype": "text/x-python",
   "name": "python",
   "nbconvert_exporter": "python",
   "pygments_lexer": "ipython3",
   "version": "3.9.12"
  }
 },
 "nbformat": 4,
 "nbformat_minor": 5
}
